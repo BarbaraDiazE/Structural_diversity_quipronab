{
 "cells": [
  {
   "cell_type": "code",
   "execution_count": 1,
   "metadata": {},
   "outputs": [],
   "source": [
    "from plot import Plot"
   ]
  },
  {
   "cell_type": "code",
   "execution_count": 2,
   "metadata": {},
   "outputs": [
    {
     "name": "stdout",
     "output_type": "stream",
     "text": [
      "['INACTIVO' 'PQSR-AGONISTA' 'RHLR-ANTAGONISTA' 'LASR-AGONISTA'\n",
      " 'PQSR-ANTAGONISTA' 'BIOFACQUIM_V2' 'LASR-ANTAGONISTA' 'QUIPRONAB' 'NuBBE'\n",
      " 'RHLR-AGONISTA']\n"
     ]
    }
   ],
   "source": [
    "#plot MACCS Keys result\n",
    "Plot(\"result_TSNE_MACCSKeys.csv\").plot_tsne(\"MACCS Keys\")"
   ]
  },
  {
   "cell_type": "code",
   "execution_count": 3,
   "metadata": {},
   "outputs": [
    {
     "name": "stdout",
     "output_type": "stream",
     "text": [
      "['INACTIVO' 'PQSR-AGONISTA' 'RHLR-ANTAGONISTA' 'LASR-AGONISTA'\n",
      " 'PQSR-ANTAGONISTA' 'BIOFACQUIM_V2' 'LASR-ANTAGONISTA' 'QUIPRONAB' 'NuBBE'\n",
      " 'RHLR-AGONISTA']\n"
     ]
    }
   ],
   "source": [
    "#plot ECFP4 results\n",
    "Plot(\"result_TSNE_ECFP4.csv\").plot_tsne(\"ECFP4\")"
   ]
  },
  {
   "cell_type": "code",
   "execution_count": 4,
   "metadata": {},
   "outputs": [
    {
     "name": "stdout",
     "output_type": "stream",
     "text": [
      "['INACTIVO' 'PQSR-AGONISTA' 'RHLR-ANTAGONISTA' 'LASR-AGONISTA'\n",
      " 'PQSR-ANTAGONISTA' 'BIOFACQUIM_V2' 'LASR-ANTAGONISTA' 'QUIPRONAB' 'NuBBE'\n",
      " 'RHLR-AGONISTA']\n"
     ]
    }
   ],
   "source": [
    "#plot ECFP6 results\n",
    "Plot(\"result_TSNE_ECFP6.csv\").plot_tsne(\"ECFP6\")"
   ]
  },
  {
   "cell_type": "code",
   "execution_count": null,
   "metadata": {},
   "outputs": [],
   "source": []
  }
 ],
 "metadata": {
  "kernelspec": {
   "display_name": "Python 3",
   "language": "python",
   "name": "python3"
  },
  "language_info": {
   "codemirror_mode": {
    "name": "ipython",
    "version": 3
   },
   "file_extension": ".py",
   "mimetype": "text/x-python",
   "name": "python",
   "nbconvert_exporter": "python",
   "pygments_lexer": "ipython3",
   "version": "3.7.4"
  }
 },
 "nbformat": 4,
 "nbformat_minor": 2
}
